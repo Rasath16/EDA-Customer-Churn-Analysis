{
 "cells": [
  {
   "cell_type": "markdown",
   "id": "b5237455",
   "metadata": {},
   "source": [
    "### 1. Import Dependencies"
   ]
  },
  {
   "cell_type": "code",
   "execution_count": 8,
   "id": "7b29ad3f",
   "metadata": {},
   "outputs": [],
   "source": [
    "import os\n",
    "import pandas as pd\n",
    "import numpy as np\n",
    "import openai,groq"
   ]
  },
  {
   "cell_type": "markdown",
   "id": "d0a35126",
   "metadata": {},
   "source": [
    "### 2. Basic information"
   ]
  },
  {
   "cell_type": "code",
   "execution_count": 11,
   "id": "2f90d7df",
   "metadata": {},
   "outputs": [
    {
     "data": {
      "text/plain": [
       "'d:\\\\ML\\\\ZuuCrew\\\\Day1\\\\Project1'"
      ]
     },
     "execution_count": 11,
     "metadata": {},
     "output_type": "execute_result"
    }
   ],
   "source": [
    "os.getcwd()\n"
   ]
  }
 ],
 "metadata": {
  "kernelspec": {
   "display_name": "bprmls",
   "language": "python",
   "name": "python3"
  },
  "language_info": {
   "codemirror_mode": {
    "name": "ipython",
    "version": 3
   },
   "file_extension": ".py",
   "mimetype": "text/x-python",
   "name": "python",
   "nbconvert_exporter": "python",
   "pygments_lexer": "ipython3",
   "version": "3.12.11"
  }
 },
 "nbformat": 4,
 "nbformat_minor": 5
}
